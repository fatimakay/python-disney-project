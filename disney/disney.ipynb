{
 "cells": [
  {
   "cell_type": "markdown",
   "metadata": {},
   "source": [
    "# Disney+ Movies and TV Shows #\n"
   ]
  },
  {
   "cell_type": "markdown",
   "metadata": {},
   "source": [
    "You are working as Junior Data Analyst at Disney Plus. There is combined data on movies and TV shows. It is available in [Kaggle](https://www.kaggle.com/datasets/shivamb/disney-movies-and-tv-shows). \n",
    "\n",
    ">The Content Manager wants you to clean the data and provide insights to answer some of the questions like:\n",
    ">\n",
    ">1. Identify the unique list of ratings. How many movies and tv shows are listed under each rating?\n",
    ">2. What is the average duration of movies and tv shows?\n",
    ">3. How many movies and tv shows have been released till now in Germany. Give the list year-wise.\n",
    ">4. Which Director has directed the maximum number of movies and in which genre?\n",
    "\n",
    "The task has been handed over to you by your team lead in the data department. They expect you to apply your Python knowledge on strings, descriptive statistics and want you to <span style=\"color:#fc5a37\">build re-usable functions.</span>\n",
    "\n",
    "Your analysis will help the Content Manager at Disney Plus to make a decision on the direction and future investments the company makes in movies as well as TV shows and will influence what gets released. \n",
    "\n",
    "Also, your manager wants to use the functions himself and he is not code savvy. For him to understand the functions and re-use them, <span style=\"color:#fc5a37\">add DocStrings to your functions</span> mentioning what it does, expected inputs along with their default values and expected outputs.\n",
    "\n",
    "There are expected outputs mentioned for few of the cells for you to confirm that you are on right track. \n",
    "\n",
    "You might have to refer to Python documentation. "
   ]
  },
  {
   "cell_type": "markdown",
   "metadata": {},
   "source": [
    "## Data dictionary ##\n",
    "|nr | name | description |\n",
    "|----|----|:----|\n",
    "|1.| **show_id** | Unique id |\n",
    "|2.| **type** | Movie or TV Show |\n",
    "|3.| **title** | Name of the movie/show |\n",
    "|4.| **director** | Directors of the movie/show |\n",
    "|5.| **cast** | Main cast of the movie/show |\n",
    "|6.| **country** | Country of production |\n",
    "|7.| **date_added** | Date added on Disney Plus |\n",
    "|8.| **release_year** | Original Release Year of the movie/tv show |\n",
    "|9.| **rating** | Rating of the movie/show |\n",
    "|10.| **duration** | Total duration of the movie/show |\n",
    "|11.| **listed_in** | Genres in which the movie is listed |  \n",
    "|12.| **description** | One-Line content description |\n"
   ]
  },
  {
   "cell_type": "markdown",
   "metadata": {},
   "source": [
    "## Step 1: Read the file"
   ]
  },
  {
   "cell_type": "code",
   "execution_count": null,
   "metadata": {},
   "outputs": [],
   "source": [
    "# This code block is pre-coded for you. You don't have to write anything in this one.\n",
    "\n",
    "from csv import reader #Package that reads the csv file.\n",
    "\n",
    "with open('./Data/disney_plus_titles.csv', encoding=\"utf-8\") as opened_file:\n",
    "    read_file = reader(opened_file)\n",
    "    data_list = list(read_file) # This stores the data in the list of lists format."
   ]
  },
  {
   "cell_type": "code",
   "execution_count": null,
   "metadata": {},
   "outputs": [],
   "source": [
    "data_list"
   ]
  },
  {
   "cell_type": "markdown",
   "metadata": {},
   "source": [
    "- extract the header (column names), which is first row in data_list and assign it to **`data_header`**\n",
    "- keep rest other rows (except header) in **`data`**. \n",
    "\n",
    "Hint: How would you access the first element of a list?"
   ]
  },
  {
   "cell_type": "code",
   "execution_count": null,
   "metadata": {},
   "outputs": [],
   "source": [
    "data_list"
   ]
  },
  {
   "cell_type": "code",
   "execution_count": null,
   "metadata": {},
   "outputs": [],
   "source": [
    "# Complete this code block\n",
    "data_header = \n",
    "data = "
   ]
  },
  {
   "cell_type": "code",
   "execution_count": null,
   "metadata": {},
   "outputs": [],
   "source": [
    "# print the column names of given data. \n",
    "data_header"
   ]
  },
  {
   "cell_type": "code",
   "execution_count": null,
   "metadata": {},
   "outputs": [],
   "source": [
    "data"
   ]
  },
  {
   "cell_type": "markdown",
   "metadata": {},
   "source": [
    "## Step 2: Create function `explore_data` to explore data ##"
   ]
  },
  {
   "cell_type": "markdown",
   "metadata": {},
   "source": [
    "### Function description and output overview\n",
    "The function **`explore_data`** should print the following:\n",
    "1. Selected rows from start to end.\n",
    "2. Number of rows and columns if chosen to do so.\n",
    "\n",
    "The function will take following parameters as input\n",
    "1. **`my_data_local`**\n",
    "2. **`start_row_local`**\n",
    "3. **`end_row_local`**\n",
    "4. **`rows_and_columns_local`** a boolean to check if you want to display total number of rows and columns. \n",
    "\n",
    "For example, I want to display first five rows and also want to display total number of rows and columns in the input data. \n",
    "\n",
    "So I will call this function as **`explore_data(data,0,5,True)`** and the expected output is:  \n",
    "  \n",
    "```python\n",
    "['s1', 'Movie - Animation', 'Duck the Halls: A Mickey Mouse Christmas Special', 'Alonso Ramirez Ramos, Dave Wasson', 'Chris Diamantopoulos, Tony Anselmo, Tress MacNeille, Bill Farmer, Russi Taylor, Corey Burton', '', 'November 26, 2021', '2016', 'TV-G', '23 min', 'Animation, Family', 'Join Mickey and the gang as they duck the halls!']\n",
    "\n",
    "\n",
    "['s2', 'Movie-Comedy', 'Ernest Saves Christmas', 'John Cherry', 'Jim Varney, Noelle Parker, Douglas Seale', '', 'November 26, 2021', '1988', 'PG', '91 min', 'Comedy', 'Santa Claus passes his magic bag to a new St. Nic.']\n",
    "\n",
    "\n",
    "['s3', 'Movie', 'Ice Age: A Mammoth Christmas', 'Karen Disher', 'Raymond Albert Romano, John Leguizamo, Denis Leary, Queen Latifah', 'United States', 'November 26, 2021', '2011', 'TV-G', '23 min', 'Animation, Comedy, Family', \"Sid the Sloth is on Santa's naughty list.\"]\n",
    "\n",
    "\n",
    "['s4', 'Movie', 'The Queen Family Singalong', 'Hamish Hamilton', 'Darren Criss, Adam Lambert, Derek Hough, Alexander Jean, Fall Out Boy, Jimmie Allen', '', 'November 26, 2021', '2021', 'TV-PG', '41 min', 'Musical', 'This is real life, not just fantasy!']\n",
    "\n",
    "\n",
    "['s5', 'TV Show - Docuseries', 'The Beatles: Get Back', '', 'John Lennon, Paul McCartney, George Harrison, Ringo Starr', '', 'November 25, 2021', '2021', '', '1 Season', 'Docuseries, Historical, Music', 'A three-part documentary from Peter Jackson capturing a moment in music history with The Beatles.']\n",
    "\n",
    "\n",
    "no. of rows: 1450\n",
    "\n",
    "no. of columns: 12\n",
    "```"
   ]
  },
  {
   "cell_type": "markdown",
   "metadata": {},
   "source": [
    "### Pseudocode (example)\n",
    "\n",
    "\n",
    "[How to write Pseudocode](https://www.geeksforgeeks.org/how-to-write-a-pseudo-code/)\n",
    "\n",
    "Below is the Pseudocode for the function\n",
    "\n",
    "def explore_data(Give the parameters along with default values):\n",
    "\n",
    "  1. Slice the **`my_data_local`** using **`start_row_local`** and **`end_row_local`**. Remember data is a list.\n",
    "\n",
    "  2. Write a for loop to print each element in sliced data and adding a new empty line after each row using print('\\n').\n",
    "        \n",
    "  3. Write an **`if statement`** which checks for if user wants to display number of rows and columns.   \n",
    "    \n",
    "     If **yes**, then print: \n",
    "     - the number of rows using **`len`** function on data \n",
    "     - and number of columns using **`len`** function on the first element of data. "
   ]
  },
  {
   "cell_type": "markdown",
   "metadata": {},
   "source": [
    "### Function definition"
   ]
  },
  {
   "cell_type": "code",
   "execution_count": null,
   "metadata": {},
   "outputs": [],
   "source": [
    "# Update the function definition based on the Pseudocode above\n",
    "def explore_data(...):\n",
    "    '''\n",
    "    This function explores the data. It takes following parameters as input:\n",
    "        1. Data\n",
    "        2. Start Row\n",
    "        3. End Row\n",
    "        4. A boolean to display number of rows and columns\n",
    "    It will print:\n",
    "        1. Required rows\n",
    "        2. Number of rows and columns if required.\n",
    "    '''\n",
    "    "
   ]
  },
  {
   "cell_type": "markdown",
   "metadata": {},
   "source": [
    "### Calling function to explore data"
   ]
  },
  {
   "cell_type": "markdown",
   "metadata": {},
   "source": [
    "#### top 5 rows\n",
    "Use `explore_data` function to display top 5 rows along with number of rows and columns."
   ]
  },
  {
   "cell_type": "code",
   "execution_count": null,
   "metadata": {},
   "outputs": [],
   "source": [
    "explore_data(....)"
   ]
  },
  {
   "cell_type": "markdown",
   "metadata": {},
   "source": [
    "####  last 5 rows\n",
    "\n",
    "Again use the `explore_data` function to display the last 5 rows. \n",
    "\n",
    "Use negative indexing for the **start_row**. \n",
    "\n",
    "For the **end_row**, modify your function definition to display until the last row. \n",
    "\n",
    "This time you don't have to display the number of rows and columns. \n",
    "\n",
    "Double-check that the **`title`** in the last row is <span style=\"color:#fc5a37\">'Captain Sparky vs. The Flying Saucers'.</span>"
   ]
  },
  {
   "cell_type": "code",
   "execution_count": null,
   "metadata": {},
   "outputs": [],
   "source": []
  },
  {
   "cell_type": "markdown",
   "metadata": {},
   "source": [
    "## Step 3: Separate Movies and TV Shows\n",
    "\n",
    "### Description\n",
    "Code a **`for loop`** to separate lists\n",
    "\n",
    "1. Movies to **`disney_movies`**\n",
    "2. TV Shows to **`disney_shows`**\n",
    "3. In **`disney_other`** collect anything other than movies and shows\n",
    "    \n",
    "So, if the **`type`** is *\"Movie - Animation\"* or *\"MOVIE-Comedy\"*, it should be in **`disney_movies`**.\n",
    "\n",
    "There could be many other combinations. So, if the **`type`** starts with *\"movie\"* it should be in **`disney_movies`**\n",
    "\n",
    "Similarly, for example, if the **`type`** is *\"TV Show - Docuseries\"* or *\"TV show - Season 1\"*, it should be in **`disney_shows`**. \n",
    "\n",
    "Rest other that do not start with *\"Movie\"* or *\"TV Show\"* should be classified as **`disney_other`**. "
   ]
  },
  {
   "cell_type": "markdown",
   "metadata": {},
   "source": [
    "### Pseudocode (example)\n",
    "\n",
    "Write a for loop to go through each row in the **`data`**\n",
    "\n",
    "- Convert the **`title`** to lower case. Because the **`title`** column is the second column, you will need to get the element at index 1 in each row. \n",
    "- Write an if else statement\n",
    "  - If title starts with <span style=\"color:#fc5a37\"> \"movie\" </span>\n",
    "    - Update the **`title`** to just <span style=\"color:#fc5a37\"> \"Movie\" </span>\n",
    "    - Append it to **`disney_movies`**\n",
    "  - Else, do the same with <span style=\"color:#fc5a37\"> \"tv\" </span> and append to **`disney_shows`**\n",
    "  - Anything else, should be appended to **`disney_other`**\n"
   ]
  },
  {
   "cell_type": "markdown",
   "metadata": {},
   "source": [
    "### Write code below"
   ]
  },
  {
   "cell_type": "code",
   "execution_count": null,
   "metadata": {},
   "outputs": [],
   "source": [
    "disney_movies = []\n",
    "disney_shows = []\n",
    "disney_other = []"
   ]
  },
  {
   "cell_type": "markdown",
   "metadata": {},
   "source": [
    "### Explore newly created datasets\n",
    "\n",
    "Explore all your new datasets created using your earlier created function. \n",
    "\n",
    "How many Movies and TV Shows are listed? \n",
    "\n",
    "Are there any other than Movies and TV Shows?\n",
    "\n",
    "Expected outputs:\n",
    "\n",
    "```python\n",
    "\n",
    "Disney Movies:  1052\n",
    "\n",
    "Disney TV Shows:  398\n",
    "\n",
    "Disney Others:  0\n",
    "```"
   ]
  },
  {
   "cell_type": "code",
   "execution_count": null,
   "metadata": {},
   "outputs": [],
   "source": [
    "# Movies"
   ]
  },
  {
   "cell_type": "code",
   "execution_count": null,
   "metadata": {},
   "outputs": [],
   "source": [
    "# TV Shows"
   ]
  },
  {
   "cell_type": "code",
   "execution_count": null,
   "metadata": {},
   "outputs": [],
   "source": [
    "# Others"
   ]
  },
  {
   "cell_type": "markdown",
   "metadata": {},
   "source": [
    "## Step 4: Get a list of unique values in a column ##"
   ]
  },
  {
   "cell_type": "markdown",
   "metadata": {},
   "source": [
    "### Function description and output overview\n",
    "\n",
    "The function **`list_of_elements`** should print:\n",
    "  - The list of unique values in any required column\n",
    "\n",
    "The function will take the following as parameters:\n",
    "1. **`my_data_local`**\n",
    "2. **`col_index_local`**\n",
    "\n",
    "For example, I want to get unique values in `rating`column.\n",
    "I will call this function and the output will be:\n",
    "\n",
    "```python\n",
    "['TV-G', 'PG', 'TV-PG', '', 'PG-13', 'TV-14', 'G', 'TV-Y7', 'TV-Y', 'TV-Y7-FV']\n",
    "```\n"
   ]
  },
  {
   "cell_type": "markdown",
   "metadata": {},
   "source": [
    "### Pseudocode\n",
    "Below is the Pseudocode for the function\n",
    "\n",
    "def list_of_elements(Give the parameters along with default values):\n",
    "\n",
    "  1. Create an empty list and assign it to **`result_list`**\n",
    "\n",
    "  2. Write a for loop to iterate over each row element in **`my_data_local`**\n",
    "      - If element in the row at **`col_index_local`** is not in the **`result_list`**, append it.\n",
    "      \n",
    "  3. Return **`result_list`**"
   ]
  },
  {
   "cell_type": "markdown",
   "metadata": {},
   "source": [
    "### Function definition"
   ]
  },
  {
   "cell_type": "code",
   "execution_count": null,
   "metadata": {},
   "outputs": [],
   "source": [
    "# Update the function definition based on the Pseudocode above\n",
    "def list_of_elements(...):\n",
    "    '''\n",
    "    Write your DocString here.\n",
    "    '''"
   ]
  },
  {
   "cell_type": "markdown",
   "metadata": {},
   "source": [
    "### Calling function\n",
    "\n",
    "What is the column index of `rating`column?\n",
    "\n",
    "Use the above created function to generate the list of unique `rating` in the original dataset. "
   ]
  },
  {
   "cell_type": "code",
   "execution_count": null,
   "metadata": {},
   "outputs": [],
   "source": [
    "print(list_of_elements(data,....)"
   ]
  },
  {
   "cell_type": "markdown",
   "metadata": {},
   "source": [
    "## Step 5: For each corresponding unique value in a column get the number of movies and shows. ##"
   ]
  },
  {
   "cell_type": "markdown",
   "metadata": {},
   "source": [
    "### Function description and output overview\n",
    "\n",
    "The function `elements_count` should return:\n",
    "  - The key value pair where\n",
    "    - key is the unique element\n",
    "    - value is the count of movies or TV shows or both with that unique element\n",
    "\n",
    "The function will take the following as parameters:\n",
    "1. **`my_data_local`**\n",
    "2. **`col_index_local`**\n",
    "\n",
    "For example, I want to get unique values and corresponding count in **`rating`** column in **`disney_movies`**.\n",
    "I will call this function on **`disney_movies`** and the output will be:\n",
    "\n",
    "```python\n",
    "{'G': 253, 'PG': 235, 'TV-G': 233, 'TV-PG': 181, 'PG-13': 66, 'TV-14': 37, 'TV-Y7': 36, 'TV-Y7-FV': 7, 'TV-Y': 3, '': 1}\n",
    "```\n"
   ]
  },
  {
   "cell_type": "markdown",
   "metadata": {},
   "source": [
    "### Pseudocode\n",
    "Below is the Pseudocode for the function\n",
    "\n",
    "def elements_count(Give the parameters along with default values):\n",
    "\n",
    "  1. Create an empty dictionary and assign it to **`element_count_dict`**\n",
    "\n",
    "  2. Write a for loop to iterate over each row element in **`my_data_local`**\n",
    "      - If element in the row at **`col_index_local`** is not in the key of **`element_count_dict`**, add it and initialize the value to 1.\n",
    "      - If element in the row at **`col_index_local`** is in the **`element_count_dict`**, increment the value by 1.\n",
    "\n",
    "  3. Sort the dictionary based on the corresponding values in descending order. \n",
    "      \n",
    "  3. Return **`element_count_dict`**"
   ]
  },
  {
   "cell_type": "markdown",
   "metadata": {},
   "source": [
    "### Function definition"
   ]
  },
  {
   "cell_type": "code",
   "execution_count": null,
   "metadata": {},
   "outputs": [],
   "source": [
    "# Update the function definition based on the Pseudocode above\n",
    "def elements_count(...):\n",
    "    \n",
    "\n",
    "\n",
    "    sorted_elements_count = dict(sorted(.....)) # This will sort the above created dictionary based on the count values. Search for 'sorted python documentation' in Google and learn more on this.\n",
    "    return sorted_elements_count"
   ]
  },
  {
   "cell_type": "markdown",
   "metadata": {},
   "source": [
    "### Calling function\n",
    "Print the Movie Ratings Count and TV Shows Ratings Count. \n",
    "\n",
    "You will have to call above function separately on **`disney_movies`** and **`disney_shows`**"
   ]
  },
  {
   "cell_type": "code",
   "execution_count": null,
   "metadata": {},
   "outputs": [],
   "source": []
  },
  {
   "cell_type": "markdown",
   "metadata": {},
   "source": [
    "## Step 6: Get the list of categories for `listed_in` column ##\n",
    "\n",
    "Get the list of unique values in `listed_in` column. \n",
    "\n",
    "It's now a one line code. \n",
    "\n",
    "You have to just re-use one of the earlier created functions. \n",
    "\n",
    "Could you identify which one?"
   ]
  },
  {
   "cell_type": "code",
   "execution_count": null,
   "metadata": {},
   "outputs": [],
   "source": []
  },
  {
   "cell_type": "markdown",
   "metadata": {},
   "source": [
    "## Step 7: Get the unique list of above categories and then the count in each category ##"
   ]
  },
  {
   "cell_type": "markdown",
   "metadata": {},
   "source": [
    "### Function description and output overview\n",
    "\n",
    "From the output of **Step 6**, it is clear that there are multiple genres listed in single row.\n",
    "\n",
    "So, a movie might be listed in animation as well as family.\n",
    "\n",
    "The function **`elements_count`** should return:\n",
    "  - The key value pair where\n",
    "    - key is the unique element\n",
    "    - value is the count of movies or TV shows or both with that unique element\n",
    "\n",
    "The function will take the following as parameters:\n",
    "1. **`my_data_local`**\n",
    "2. **`col_index_local`**\n",
    "3. **`sep_local`** which separates each items in one single cell. So if it is listed in 'animation, family', it should be considered in the count for both the genres\n",
    "\n",
    "For example, I want to get unique values and corresponding count in `listed_in`column in `disney_movies`.\n",
    "I will call this function on `disney_movies` and the output will be:\n",
    "\n",
    "```python\n",
    "{'Family': 533, 'Comedy': 407, 'Animation': 381, 'Action-Adventure': 314, 'Documentary': 174, 'Fantasy': 158, 'Coming of Age': 153, 'Animals & Nature': 130, 'Drama': 121, 'Science Fiction': 76, 'Biographical': 41, 'Musical': 40, 'Kids': 39, 'Music': 38, 'Sports': 38, 'Historical': 38, 'Buddy': 24, 'Romance': 19, 'Superhero': 16, 'Crime': 16, 'Mystery': 8, 'Concert Film': 7, 'Variety': 7, 'Parody': 7, 'Anthology': 7, 'Dance': 6, 'Thriller': 5, 'Western': 5, 'Reality': 4, 'Lifestyle': 3, 'Movies': 3, 'Survival': 3, 'Spy/Espionage': 2, 'Romantic Comedy': 2, 'Medical': 2, 'Disaster': 2}\n",
    "```"
   ]
  },
  {
   "cell_type": "markdown",
   "metadata": {},
   "source": [
    "### Pseudocode\n",
    "\n",
    "\n",
    "\n",
    "<span style=\"color:#fc5a37\"> UPDATE </span> the Pseudocode below for the requirement above.\n",
    "\n",
    "def elements_count(Give the parameters along with default values):\n",
    "\n",
    "  1. Create an empty dictionary and assign it to **`element_count_dict`**\n",
    "\n",
    "  2. Write a for loop to iterate over each row element in **`my_data_local`**\n",
    "      - If element in the row at **`col_index_local`** is not in the key of **`element_count_dict`**, add it and initialize the value to 1.\n",
    "      - If element in the row at **`col_index_local`** is in the **`element_count_dict`**, increment the value by 1.\n",
    "\n",
    "  3. Sort the dictionary based on the corresponding values in descending order. \n",
    "      \n",
    "  3. Return **`element_count_dict`**"
   ]
  },
  {
   "cell_type": "markdown",
   "metadata": {},
   "source": [
    "### Function definition\n",
    "Update the function definition below. Include DocString that would explain what this function does."
   ]
  },
  {
   "cell_type": "code",
   "execution_count": null,
   "metadata": {},
   "outputs": [],
   "source": [
    "def elements_count(...):"
   ]
  },
  {
   "cell_type": "markdown",
   "metadata": {},
   "source": [
    "### Calling Function\n",
    "Use above created function to print the unique list of Genres which is in the column `listed-in`.\n",
    "\n",
    "It should print this separately for **`Movies`** and **`TV Shows`**."
   ]
  },
  {
   "cell_type": "code",
   "execution_count": null,
   "metadata": {},
   "outputs": [],
   "source": []
  },
  {
   "cell_type": "code",
   "execution_count": null,
   "metadata": {},
   "outputs": [],
   "source": []
  },
  {
   "cell_type": "markdown",
   "metadata": {},
   "source": [
    "Fill the blanks below manually based on the output in the above two cells.\n",
    "\n",
    "The maximum movies are listed in _______ followed by _______.\n",
    "\n",
    "The maximum Shows are listed in ________ followed by ________."
   ]
  },
  {
   "cell_type": "markdown",
   "metadata": {},
   "source": [
    "## Step 8: What is the average duration of movies and shows ##"
   ]
  },
  {
   "cell_type": "markdown",
   "metadata": {},
   "source": [
    "### Function description and output overview\n",
    "\n",
    "You need to write two functions for this step:\n",
    "\n",
    "1. The duration of movies is in minutes and shows in seasons.\n",
    "\n",
    "    Define function **`duration_conversion`** that will remove the suffix <span style=\"color:#fc5a37\"> minutes </span> and <span style=\"color:#fc5a37\"> seasons </span> and convert them to numeric.\n",
    "\n",
    "    This should take below parameters:\n",
    "\n",
    "    a. my_data_local\n",
    "\n",
    "    b. col_index_local  \n",
    "  \n",
    "  \n",
    "2. Create a function **`average`** that will create the average of all the values in a column in given dataset.\n",
    "\n",
    "    This should take below parameters:\n",
    "\n",
    "    a. my_data_local\n",
    "    \n",
    "    b. col_index_local"
   ]
  },
  {
   "cell_type": "markdown",
   "metadata": {},
   "source": [
    "### Pseudocode\n",
    "\n",
    "1. Write pseudocode for function **`duration_conversion`** that will delete any suffixes after the space.\n",
    "\n",
    "2. Write pseudcode for function **`average`**"
   ]
  },
  {
   "cell_type": "markdown",
   "metadata": {},
   "source": [
    "### Function definition\n",
    "Update the function definition for **`duration_conversion`** and **`average`**."
   ]
  },
  {
   "cell_type": "code",
   "execution_count": null,
   "metadata": {},
   "outputs": [],
   "source": [
    "def duration_conversion(...):\n",
    "\n",
    "    return data_l"
   ]
  },
  {
   "cell_type": "code",
   "execution_count": null,
   "metadata": {},
   "outputs": [],
   "source": [
    "def average(...):\n"
   ]
  },
  {
   "cell_type": "markdown",
   "metadata": {},
   "source": [
    "### Calling functions\n",
    "Use the newly created functions to calculate the average duration for movies. \n",
    "\n",
    "You will have to first call the function **`duration_conversion`** on disney_movies to convert the duration to numeric. \n",
    "\n",
    "Also, remember to store this in another data list **`disney_movies_mod`**. \n",
    "\n",
    "Now call your average function using this new data list to calculate the average duration of movies. \n",
    "\n",
    "The expected output is:\n",
    "\n",
    "<style>\n",
    "    .code_block {\n",
    "        background-color: #ff795c;\n",
    "        color: white;\n",
    "    }\n",
    "</style>\n",
    "\n",
    "<div class=\"code_block\">\n",
    "Average Duration of Movies in minutes:  71.9106463878327"
   ]
  },
  {
   "cell_type": "code",
   "execution_count": null,
   "metadata": {},
   "outputs": [],
   "source": []
  },
  {
   "cell_type": "code",
   "execution_count": null,
   "metadata": {},
   "outputs": [],
   "source": []
  },
  {
   "cell_type": "code",
   "execution_count": null,
   "metadata": {},
   "outputs": [],
   "source": [
    "print(\"Average Duration of Movies in minutes: \", ....)"
   ]
  },
  {
   "cell_type": "markdown",
   "metadata": {},
   "source": [
    " Now Calculate the average duration for TV Shows. \n",
    " \n",
    " The Expected output is:\n",
    "\n",
    "<style>\n",
    "    .code_block {\n",
    "        background-color: #ff795c;\n",
    "        color: white;\n",
    "    }\n",
    "</style>\n",
    "\n",
    "<div class=\"code_block\">\n",
    " The average duration of TV shows is 2 seasons."
   ]
  },
  {
   "cell_type": "code",
   "execution_count": null,
   "metadata": {},
   "outputs": [],
   "source": []
  },
  {
   "cell_type": "code",
   "execution_count": null,
   "metadata": {},
   "outputs": [],
   "source": []
  },
  {
   "cell_type": "markdown",
   "metadata": {},
   "source": [
    "## (OPTIONAL) Step 9: Can you make your function more robust? ##\n",
    "\n",
    "### Function description and output overview\n",
    "Make a function **`filter_data`** to filter the data based on criteria in the input.\n",
    "\n",
    "Use this function **`filter_data`** in **`elements_count`** to generate statistics for filtered data. \n",
    "\n",
    "For example, if your content manager asks you to provide the count of movies based on genre only in Germany. \n",
    "\n",
    "You start working on the function and after some time he wants the data only for the year 2004. \n",
    "\n",
    "With this ever changing filtering criteria, you decide to make your function handle this dynamic changing filtering list. \n",
    "\n",
    "You now accept the filtering criteria in a dictionary. Where keys are the column index and value are the respective filter values.\n",
    "\n",
    "If I want to print the count of movies based on genre and without any filtering criteria. \n",
    "\n",
    "We need to just call the function like this:\n",
    "```python\n",
    "print(items_count(disney_movies, 10, ',', {}))\n",
    "```\n",
    "The output should look like:\n",
    "\n",
    "```python\n",
    "{'Family': 533, 'Comedy': 407, 'Animation': 381, 'Action-Adventure': 314, 'Documentary': 174, 'Fantasy': 158, 'Coming of Age': 153, 'Animals & Nature': 130, 'Drama': 121, 'Science Fiction': 76, 'Biographical': 41, 'Musical': 40, 'Kids': 39, 'Music': 38, 'Sports': 38, 'Historical': 38, 'Buddy': 24, 'Romance': 19, 'Superhero': 16, 'Crime': 16, 'Mystery': 8, 'Concert Film': 7, 'Variety': 7, 'Parody': 7, 'Anthology': 7, 'Dance': 6, 'Thriller': 5, 'Western': 5, 'Reality': 4, 'Lifestyle': 3, 'Movies': 3, 'Survival': 3, 'Spy/Espionage': 2, 'Romantic Comedy': 2, 'Medical': 2, 'Disaster': 2}\n",
    "```\n"
   ]
  },
  {
   "cell_type": "code",
   "execution_count": null,
   "metadata": {},
   "outputs": [],
   "source": [
    "def filter_data(row_local, filter_local):\n",
    "    ''' \n",
    "    This function will take one row of the data at a time and also the filter criteria in the form of a dictionary where key is the column location and the value is the filter value expected.\n",
    "    '''\n",
    "    include_row_ll = True # By default, the row qualifies for the filtering criteria\n",
    "    # Write a for loop that will loop over all the key value pairs of the filters and check the values in the row.\n",
    "    # Inside for loop, write a if-else that will check if there are \",\" in that field. If yes, then create a list out of it splitting it and then checking each value for the filter values. Else, directly check it for the filter values.\n",
    "\n",
    "        \n",
    "\n",
    "\n",
    "        "
   ]
  },
  {
   "cell_type": "code",
   "execution_count": null,
   "metadata": {},
   "outputs": [],
   "source": [
    "def elements_count(data_local, loc_local, sep_local, filters_local):\n",
    "    #use `filter_data` function within this function\n",
    "\n",
    "    "
   ]
  },
  {
   "cell_type": "markdown",
   "metadata": {},
   "source": [
    "### Calling function\n",
    "\n",
    "Print the count of movies based on genre and without any filtering criteria."
   ]
  },
  {
   "cell_type": "code",
   "execution_count": null,
   "metadata": {},
   "outputs": [],
   "source": [
    "print(elements_count("
   ]
  },
  {
   "cell_type": "markdown",
   "metadata": {},
   "source": [
    "Now, print the count of movies based on genre and only for Germany. So you will have to give the filter criteria as {5: 'Germany'}"
   ]
  },
  {
   "cell_type": "code",
   "execution_count": null,
   "metadata": {},
   "outputs": [],
   "source": [
    "print(elements_count("
   ]
  },
  {
   "cell_type": "markdown",
   "metadata": {},
   "source": [
    "Now, print the count of movies based on genre and only for Germany and that too only for year 2004. Now the filter to be used is {5: 'Germany', 7: '2004'}\n",
    "\n",
    "The expected output is:\n",
    "\n",
    "```python \n",
    "{'Comedy': 2, 'Action-Adventure': 1, 'Family': 1, 'Coming of Age': 1}\n",
    "```"
   ]
  },
  {
   "cell_type": "code",
   "execution_count": null,
   "metadata": {},
   "outputs": [],
   "source": [
    "print(elements_count("
   ]
  }
 ],
 "metadata": {
  "kernelspec": {
   "display_name": "Python 3 (ipykernel)",
   "language": "python",
   "name": "python3"
  },
  "language_info": {
   "codemirror_mode": {
    "name": "ipython",
    "version": 3
   },
   "file_extension": ".py",
   "mimetype": "text/x-python",
   "name": "python",
   "nbconvert_exporter": "python",
   "pygments_lexer": "ipython3",
   "version": "3.9.12"
  },
  "vscode": {
   "interpreter": {
    "hash": "619b955346cbfe204b67180c22b650d924d6345250d3da715f150ba579a03d34"
   }
  }
 },
 "nbformat": 4,
 "nbformat_minor": 2
}
