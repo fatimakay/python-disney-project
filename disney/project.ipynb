{
 "cells": [
  {
   "cell_type": "markdown",
   "metadata": {},
   "source": [
    "**<h1 style=\"text-align: center\">✨ Data Analysis with Disney ✨</h1>**\n",
    "<p style=\"text-align: center\"> 🔱 Project by: Ilker Dom, Fatima Khan, Pei Huang, and Tannu Singh 🔱 </p>\n",
    "<hr/>"
   ]
  },
  {
   "cell_type": "markdown",
   "metadata": {},
   "source": [
    "## Data dictionary ##\n",
    "|ind. | name | description |\n",
    "|----|----|:----|\n",
    "|0.| **header** | Column names |\n",
    "|1.| **show_id** | Unique id |\n",
    "|2.| **type** | Movie or TV Show |\n",
    "|3.| **title** | Name of the movie/show |\n",
    "|4.| **director** | Directors of the movie/show |\n",
    "|5.| **cast** | Main cast of the movie/show |\n",
    "|6.| **country** | Country of production |\n",
    "|7.| **date_added** | Date added on Disney Plus |\n",
    "|8.| **release_year** | Original Release Year of the movie/tv show |\n",
    "|9.| **rating** | Rating of the movie/show |\n",
    "|10.| **duration** | Total duration of the movie/show |\n",
    "|11.| **listed_in** | Genres in which the movie is listed |  \n",
    "|12.| **description** | One-Line content description |"
   ]
  },
  {
   "cell_type": "markdown",
   "metadata": {},
   "source": [
    "## Step 1: Reading the Data File 🕵️"
   ]
  },
  {
   "cell_type": "code",
   "execution_count": 3,
   "metadata": {},
   "outputs": [],
   "source": [
    "# This code block is pre-coded for you. You don't have to write anything in this one.\n",
    "\n",
    "from csv import reader #Package that reads the csv file.\n",
    "\n",
    "with open('./Data/disney_plus_titles.csv', encoding=\"utf-8\") as opened_file:\n",
    "    read_file = reader(opened_file)\n",
    "    data_list = list(read_file) # This stores the data in the list of lists format."
   ]
  },
  {
   "cell_type": "code",
   "execution_count": 113,
   "metadata": {},
   "outputs": [],
   "source": [
    "#extracing only the column names\n",
    "data_header = data_list[0]\n",
    "\n",
    "#extracting the data excluding the column names \n",
    "data = data_list[1:]"
   ]
  },
  {
   "cell_type": "markdown",
   "metadata": {},
   "source": [
    "## Step 2: Data Exploration 🚀"
   ]
  },
  {
   "cell_type": "code",
   "execution_count": 118,
   "metadata": {},
   "outputs": [
    {
     "name": "stdout",
     "output_type": "stream",
     "text": [
      "['s2', 'Movie-Comedy', 'Ernest Saves Christmas', 'John Cherry', 'Jim Varney, Noelle Parker, Douglas Seale', '', 'November 26, 2021', '1988', 'PG', '91 min', 'Comedy', 'Santa Claus passes his magic bag to a new St. Nic.']\n",
      "['s3', 'Movie', 'Ice Age: A Mammoth Christmas', 'Karen Disher', 'Raymond Albert Romano, John Leguizamo, Denis Leary, Queen Latifah', 'United States', 'November 26, 2021', '2011', 'TV-G', '23 min', 'Animation, Comedy, Family', \"Sid the Sloth is on Santa's naughty list.\"]\n",
      "['s4', 'Movie', 'The Queen Family Singalong', 'Hamish Hamilton', 'Darren Criss, Adam Lambert, Derek Hough, Alexander Jean, Fall Out Boy, Jimmie Allen', '', 'November 26, 2021', '2021', 'TV-PG', '41 min', 'Musical', 'This is real life, not just fantasy!']\n",
      "Total rows:  1450\n",
      "Total columns:  12\n"
     ]
    }
   ],
   "source": [
    "'''\n",
    "The function lets you view data from any point and until the row you specified. \n",
    "To use this function, you need to define four parameters: \n",
    "1. name of the dataset you want to explore \n",
    "2. index of the row you want to start at\n",
    "3. index of the row you want to end at\n",
    "4. whether you want to display the total rows and columns of the table (True or False)\n",
    "By default, we are using our disney dataset, displaying the first three rows as well as the count of rows and columns\n",
    "'''\n",
    "def explore_data(data_local = data, start_row_local = 1, end_row_local = 4, rows_and_cols_local = True):\n",
    "    sliced_data = data_local[start_row_local: end_row_local]\n",
    "    for d in sliced_data: \n",
    "        print(d)\n",
    "    if rows_and_cols_local == True: #if user wants to show rows and cols\n",
    "        print(\"Total rows: \", len(data_local))\n",
    "        print(\"Total columns: \", len(data_local[0]))\n",
    "        \n",
    "explore_data()"
   ]
  },
  {
   "cell_type": "markdown",
   "metadata": {},
   "source": [
    "#### **Display Top 5 Rows**"
   ]
  },
  {
   "cell_type": "code",
   "execution_count": 119,
   "metadata": {},
   "outputs": [
    {
     "name": "stdout",
     "output_type": "stream",
     "text": [
      "['s1', 'Movie - Animation', 'Duck the Halls: A Mickey Mouse Christmas Special', 'Alonso Ramirez Ramos, Dave Wasson', 'Chris Diamantopoulos, Tony Anselmo, Tress MacNeille, Bill Farmer, Russi Taylor, Corey Burton', '', 'November 26, 2021', '2016', 'TV-G', '23 min', 'Animation, Family', 'Join Mickey and the gang as they duck the halls!']\n",
      "['s2', 'Movie-Comedy', 'Ernest Saves Christmas', 'John Cherry', 'Jim Varney, Noelle Parker, Douglas Seale', '', 'November 26, 2021', '1988', 'PG', '91 min', 'Comedy', 'Santa Claus passes his magic bag to a new St. Nic.']\n",
      "['s3', 'Movie', 'Ice Age: A Mammoth Christmas', 'Karen Disher', 'Raymond Albert Romano, John Leguizamo, Denis Leary, Queen Latifah', 'United States', 'November 26, 2021', '2011', 'TV-G', '23 min', 'Animation, Comedy, Family', \"Sid the Sloth is on Santa's naughty list.\"]\n",
      "['s4', 'Movie', 'The Queen Family Singalong', 'Hamish Hamilton', 'Darren Criss, Adam Lambert, Derek Hough, Alexander Jean, Fall Out Boy, Jimmie Allen', '', 'November 26, 2021', '2021', 'TV-PG', '41 min', 'Musical', 'This is real life, not just fantasy!']\n",
      "['s5', 'TV Show - Docuseries', 'The Beatles: Get Back', '', 'John Lennon, Paul McCartney, George Harrison, Ringo Starr', '', 'November 25, 2021', '2021', '', '1 Season', 'Docuseries, Historical, Music', 'A three-part documentary from Peter Jackson capturing a moment in music history with The Beatles.']\n",
      "Total rows:  1450\n",
      "Total columns:  12\n"
     ]
    }
   ],
   "source": [
    "explore_data(data, 0, 5, True)"
   ]
  },
  {
   "cell_type": "markdown",
   "metadata": {},
   "source": [
    "#### **Display Last Five Rows**"
   ]
  },
  {
   "cell_type": "markdown",
   "metadata": {},
   "source": [
    "First we gotta modify the function to display until the last row because in slicing, the end index is exclusive."
   ]
  },
  {
   "cell_type": "code",
   "execution_count": 121,
   "metadata": {},
   "outputs": [],
   "source": [
    "'''\n",
    "Our previous function was not optimized to fetch data from the end of the table.\n",
    "In order to perform negative indexing, we need to slightly modify our original function \n",
    "to redefine the ranges. The following function checks to see if the end index is -1, and it slices \n",
    "the data to include all rows from the start index to the end of the row. \n",
    "Otherwise, it performs slicing as usual\n",
    "'''\n",
    "def explore_data(data_local, start_row_local, end_row_local, show_last_row):\n",
    "    if show_last_row == True and end_row_local == -1:\n",
    "        sliced_data = data_local[start_row_local:]\n",
    "    else:\n",
    "        sliced_data = data_local[start_row_local: end_row_local]\n",
    "    for d in sliced_data: \n",
    "        print(d)"
   ]
  },
  {
   "cell_type": "code",
   "execution_count": 122,
   "metadata": {},
   "outputs": [
    {
     "name": "stdout",
     "output_type": "stream",
     "text": [
      "['s1446', 'Movie', 'X-Men Origins: Wolverine', 'Gavin Hood', 'Hugh Jackman, Liev Schreiber, Danny Huston, will.i.am , Lynn Collins, Kevin Durand', 'United States, United Kingdom', 'June 4, 2021', '2009', 'PG-13', '108 min', 'Action-Adventure, Family, Science Fiction', 'Wolverine unites with legendary X-Men to fight against forces determined to eliminate mutants.']\n",
      "['s1447', 'Movie', 'Night at the Museum: Battle of the Smithsonian', 'Shawn Levy', 'Ben Stiller, Amy Adams, Owen Wilson, Hank Azaria, Christopher Guest, Alain Chabat', 'United States, Canada', 'April 2, 2021', '2009', 'PG', '106 min', 'Action-Adventure, Comedy, Family', 'Larry Daley returns to rescue some old friends while the Smithsonian Institution comes alive.']\n",
      "['s1448', 'Movie', 'Eddie the Eagle', 'Dexter Fletcher', 'Tom Costello, Jo Hartley, Keith Allen, Dickon Tolson, Jack Costello, Taron Egerton', 'United Kingdom, Germany, United States', 'December 18, 2020', '2016', 'PG-13', '107 min', 'Biographical, Comedy, Drama', 'True story of Eddie Edwards, a British ski-jumper whose Olympic performance wins the hearts of fans.']\n",
      "['s1449', 'Movie - Comedy', 'Bend It Like Beckham', 'Gurinder Chadha', 'Parminder Nagra, Keira Knightley, Jonathan Rhys-Meyers, Anupam Kher, Archie Panjabi, Shaznay Lewis', 'United Kingdom, Germany, United States', 'September 18, 2020', '2003', 'PG-13', '112 min', 'Buddy, Comedy, Coming of Age', 'Despite the wishes of their traditional families, two girls aim for careers in professional soccer.']\n",
      "['s1450', 'Movie - Action', 'Captain Sparky vs. The Flying Saucers', 'Mark Waring', 'Charlie Tahan', 'United States', 'April 1, 2020', '2012', 'TV-G', '2 min', 'Action-Adventure, Animals & Nature, Animation', \"View one of Sparky's favorite home movies.\"]\n"
     ]
    }
   ],
   "source": [
    "explore_data(data, -5, -1, True)"
   ]
  },
  {
   "cell_type": "markdown",
   "metadata": {},
   "source": [
    "## Step 3: Seperating Movies and Shows ✂️ "
   ]
  },
  {
   "cell_type": "code",
   "execution_count": 10,
   "metadata": {},
   "outputs": [
    {
     "name": "stdout",
     "output_type": "stream",
     "text": [
      "Disney Movies:  1052\n",
      "Disney Shows:  398\n",
      "Disney Other:  0\n"
     ]
    }
   ],
   "source": [
    "'''\n",
    "In this part we are required to create two lists to seperate the movies and the tv shows. To do that, \n",
    "we have first created three empty lists, and an empty title string which we will use for comparing individual elements. \n",
    "Then, we iterate over our data list, converting each element into lower case, then checking to which category it belongs to, \n",
    "and adding it to the respective list\n",
    "'''\n",
    "disney_movies = []\n",
    "disney_shows = []\n",
    "disney_other = []\n",
    "title = ''\n",
    "for d in data:\n",
    "    title = d[1].lower()\n",
    "    if 'movie' in title: \n",
    "        title = \"Movie\"\n",
    "        disney_movies.append(d)\n",
    "    elif 'tv' in title: \n",
    "        title = \"TV Show\"\n",
    "        disney_shows.append(d)\n",
    "    else: \n",
    "        title = \"Other\"\n",
    "        disney_other.append(d)\n",
    "\n",
    "print(\"Disney Movies: \", len(disney_movies))\n",
    "print(\"Disney Shows: \", len(disney_shows))\n",
    "print(\"Disney Other: \", len(disney_other))\n"
   ]
  },
  {
   "cell_type": "markdown",
   "metadata": {},
   "source": [
    "## Step 4: Get Unique Values"
   ]
  },
  {
   "cell_type": "code",
   "execution_count": 155,
   "metadata": {},
   "outputs": [
    {
     "name": "stdout",
     "output_type": "stream",
     "text": [
      "['TV-G', 'PG', 'TV-PG', '', 'PG-13', 'TV-14', 'G', 'TV-Y7', 'TV-Y', 'TV-Y7-FV']\n"
     ]
    }
   ],
   "source": [
    "def list_of_elements(my_data_local, col_index_local):\n",
    "    result_list = []\n",
    "    for d in my_data_local:\n",
    "        if d[col_index_local] not in result_list:\n",
    "            result_list.append(d[col_index_local])\n",
    "    print(result_list)\n",
    "list_of_elements(data, 8)"
   ]
  },
  {
   "cell_type": "markdown",
   "metadata": {},
   "source": [
    "## Step 5: No. of Movies and Shows for Each Unique Value in a Column "
   ]
  },
  {
   "cell_type": "code",
   "execution_count": 202,
   "metadata": {},
   "outputs": [
    {
     "data": {
      "text/plain": [
       "{'G': 253,\n",
       " 'PG': 235,\n",
       " 'TV-G': 233,\n",
       " 'TV-PG': 181,\n",
       " 'PG-13': 66,\n",
       " 'TV-14': 37,\n",
       " 'TV-Y7': 36,\n",
       " 'TV-Y7-FV': 7,\n",
       " 'TV-Y': 3,\n",
       " '': 1}"
      ]
     },
     "execution_count": 202,
     "metadata": {},
     "output_type": "execute_result"
    }
   ],
   "source": [
    "def elements_count(my_data_local, col_index_local):\n",
    "    element_count_dict = {}\n",
    "    for d in my_data_local: \n",
    "        if d[col_index_local] not in element_count_dict:\n",
    "            element_count_dict[d[col_index_local]] = 1 \n",
    "        else: \n",
    "            element_count_dict[d[col_index_local]] += 1\n",
    "    sorted_elements_count = dict(sorted(element_count_dict.items(), key=lambda item: item[1], reverse=True))\n",
    "    return sorted_elements_count\n",
    "\n",
    "# elements_count(disney_shows, 8)\n",
    "elements_count(disney_movies, 8)\n"
   ]
  },
  {
   "cell_type": "markdown",
   "metadata": {},
   "source": [
    "sorted(element_count_dict.items(), key=lambda item: item[1], reverse=True):\n",
    "\n",
    "The sorted() function takes an iterable and returns a new sorted list from that iterable.\n",
    "element_count_dict.items() provides the iterable (list of key-value pairs) to be sorted.\n",
    "key=lambda item: item[1] specifies a sorting key. Here, a lambda function lambda item: item[1] is used, where item is each tuple (key, value), and item[1] is the value part of the tuple. This means the sorting will be based on the values of the dictionary.\n",
    "reverse=True specifies that the sorting should be in descending order."
   ]
  },
  {
   "cell_type": "markdown",
   "metadata": {},
   "source": [
    "## Step 6: Fetching Unique Values for '_Listed in_' Column"
   ]
  },
  {
   "cell_type": "code",
   "execution_count": 8,
   "metadata": {},
   "outputs": [
    {
     "name": "stdout",
     "output_type": "stream",
     "text": [
      "['Animation, Family', 'Comedy', 'Animation, Comedy, Family', 'Musical', 'Docuseries, Historical, Music', 'Biographical, Documentary', 'Action-Adventure, Superhero', 'Docuseries, Reality, Survival', 'Animals & Nature, Docuseries, Family', 'Comedy, Family, Musical', 'Documentary', 'Comedy, Family, Music', 'Documentary, Family', 'Action-Adventure, Animals & Nature, Docuseries', 'Animals & Nature', 'Animation', 'Animation, Kids', 'Comedy, Coming of Age, Drama', 'Comedy, Family, Fantasy', 'Animation, Comedy, Drama', 'Animation, Family, Fantasy', 'Action-Adventure, Animation, Comedy', 'Comedy, Family', 'Action-Adventure, Comedy, Family', 'Lifestyle', 'Movies', 'Action-Adventure, Science Fiction', 'Action-Adventure, Fantasy, Superhero', 'Coming of Age, Music', 'Animation, Drama', 'Concert Film, Music', 'Animation, Comedy, Coming of Age', 'Animation, Comedy', 'Animation, Crime, Family', 'Science Fiction', 'Action-Adventure, Fantasy', 'Comedy, Fantasy, Kids', 'Action-Adventure, Comedy, Kids', 'Drama, Family, Fantasy', 'Action-Adventure, Science Fiction, Superhero', 'Drama, Sports', 'Comedy, Family, Sports', 'Action-Adventure, Animation, Kids', 'Animals & Nature, Reality', 'Documentary, Historical', 'Docuseries, Historical', 'Anthology, Comedy, Coming of Age', 'Reality', 'Animals & Nature, Docuseries, Medical', 'Animation, Coming of Age, Fantasy', 'Family, Variety', 'Docuseries', 'Action-Adventure, Science Fiction, Spy/Espionage', 'Animation, Buddy, Coming of Age', 'Action-Adventure, Animation, Science Fiction', 'Action-Adventure, Family, Fantasy', 'Animation, Family, Parody', 'Animation, Fantasy, Kids', 'Family, Game Show / Competition', 'Animals & Nature, Docuseries', 'Kids, Music', 'Animation, Science Fiction', 'Animation, Anthology, Science Fiction', 'Animals & Nature, Docuseries, Reality', 'Coming of Age, Drama, Romance', 'Action-Adventure, Animation, Anime', 'Comedy, Romance, Romantic Comedy', 'Animation, Fantasy, Musical', 'Animals & Nature, Documentary', 'Action-Adventure, Animation, Fantasy', 'Comedy, Coming of Age, Family', 'Action-Adventure, Family, Science Fiction', 'Crime, Drama', 'Comedy, Drama, Romance', 'Family, Music, Variety', 'Comedy, Drama, Thriller', 'Action-Adventure, Family, Parody', 'Animation, Kids, Police/Cop', 'Comedy, Family, Science Fiction', 'Action-Adventure, Animation, Anthology', 'Comedy, Drama', 'Animation, Anthology, Family', 'Animation, Buddy, Comedy', 'Animation, Buddy, Kids', 'Talk Show', 'Animals & Nature, Biographical, Documentary', 'Docuseries, Family', 'Action-Adventure, Buddy, Comedy', 'Animals & Nature, Drama, Family', 'Comedy, Coming of Age', 'Animals & Nature, Coming of Age, Drama', 'Animation, Fantasy', 'Action-Adventure, Docuseries, Reality', 'Animation, Kids, Sports', 'Animation, Comedy, Fantasy', 'Comedy, Sports', 'Action-Adventure, Comedy, Coming of Age', 'Action-Adventure, Reality, Survival', 'Action-Adventure, Family', 'Animation, Kids, Western', 'Action-Adventure, Animation, Family', 'Biographical, Coming of Age, Family', 'Action-Adventure, Comedy, Spy/Espionage', 'Action-Adventure, Fantasy, Science Fiction', 'Action-Adventure, Docuseries, Lifestyle', 'Action-Adventure, Drama, Historical', 'Animation, Dance, Family', 'Drama', 'Coming of Age, Drama', 'Coming of Age, Fantasy', 'Fantasy', 'Animation, Superhero', 'Animals & Nature, Animation, Kids', 'Action-Adventure, Family, Game Show / Competition', 'Biographical, Drama', 'Animation, Comedy, Parody', 'Anthology, Science Fiction', 'Fantasy, Musical', 'Biographical, Documentary, Music', 'Musical, Romance, Western', 'Action-Adventure, Comedy, Crime', 'Comedy, Coming of Age, Kids', 'Comedy, Drama, Sports', 'Animals & Nature, Anthology', 'Action-Adventure, Coming of Age, Family', 'Action-Adventure, Animals & Nature, Drama', 'Family, Kids', 'Action-Adventure, Animation', 'Comedy, Coming of Age, Crime', 'Biographical, Coming of Age, Drama', 'Action-Adventure, Biographical, Drama', 'Animation, Kids, Musical', 'Action-Adventure, Fantasy, Survival', 'Series', 'Animals & Nature, Comedy', 'Comedy, Reality', 'Action-Adventure, Buddy, Science Fiction', 'Animation, Kids, Medical', 'Anthology, Docuseries', 'Comedy, Family, Kids', 'Buddy, Comedy, Docuseries', 'Game Show / Competition, Sports, Variety', 'Comedy, Docuseries, Family', 'Comedy, Fantasy', 'Animation, Comedy, Kids', 'Family, Fantasy, Mystery', 'Variety', 'Comedy, Family, Variety', 'Anthology, Documentary', 'Family, Fantasy, Musical', 'Drama, Fantasy, Mystery', 'Family, Game Show / Competition, Reality', 'Action-Adventure, Docuseries, Fantasy', 'Action-Adventure, Docuseries, Family', 'Action-Adventure, Fantasy, Musical', 'Fantasy, Variety', 'Drama, Music, Romance', 'Biographical, Drama, Sports', 'Action-Adventure, Coming of Age, Drama', 'Action-Adventure, Fantasy, Soap Opera / Melodrama', 'Animals & Nature, Kids, Music', 'Documentary, Music', 'Coming of Age, Drama, Music', 'Action-Adventure, Animation, Buddy', 'Comedy, Variety', 'Docuseries, Reality', 'Biographical, Drama, Music', 'Animals & Nature, Documentary, Survival', 'Drama, Historical', 'Animals & Nature, Documentary, Family', 'Drama, Music', 'Biographical, Drama, Family', 'Anthology, Docuseries, Family', 'Drama, Romance', 'Docuseries, Historical, Reality', 'Documentary, Sports', 'Comedy, Drama, Family', 'Comedy, Parody, Science Fiction', 'Animals & Nature, Kids, Variety', 'Animation, Kids, Music', 'Coming of Age, Fantasy, Musical', 'Action-Adventure, Comedy, Science Fiction', 'Animals & Nature, Docuseries, Kids', 'Docuseries, Kids', 'Animals & Nature, Family, Reality', 'Dance, Music, Musical', 'Comedy, Family, Lifestyle', 'Buddy, Docuseries', 'Documentary, Family, Historical', 'Coming of Age, Drama, Family', 'Historical, Musical', 'Action-Adventure, Crime, Science Fiction', 'Biographical, Historical, Musical', 'Comedy, Coming of Age, Music', 'Animation, Documentary, Family', 'Action-Adventure, Animation, Coming of Age', 'Comedy, Kids', 'Action-Adventure, Crime, Fantasy', 'Comedy, Coming of Age, Medical', 'Drama, Family, Historical', 'Animals & Nature, Comedy, Family', 'Coming of Age, Fantasy, Mystery', 'Crime, Drama, Mystery', 'Animation, Comedy, Crime', 'Comedy, Musical, Romance', 'Action-Adventure, Docuseries, Historical', 'Action-Adventure, Animals & Nature, Family', 'Animation, Family, Sports', 'Action-Adventure, Mystery, Thriller', 'Docuseries, Family, Game Show / Competition', 'Concert Film, Music, Musical', 'Animals & Nature, Family', 'Comedy, Coming of Age, Romance', 'Animation, Family, Historical', 'Coming of Age, Drama, Musical', 'Action-Adventure, Disaster, Drama', 'Action-Adventure, Animation, Musical', 'Docuseries, Family, Lifestyle', 'Comedy, Fantasy, Romance', 'Comedy, Coming of Age, Fantasy', 'Buddy, Comedy, Drama', 'Animation, Family, Romance', 'Coming of Age, Drama, Science Fiction', 'Biographical, Comedy, Family', 'Animals & Nature, Family, Sports', 'Action-Adventure, Animation, Superhero', 'Docuseries, Science Fiction', 'Coming of Age, Documentary, Drama', 'Action-Adventure, Comedy, Fantasy', 'Action-Adventure, Documentary, Historical', 'Buddy, Docuseries, Lifestyle', 'Concert Film, Family, Fantasy', 'Animation, Comedy, Dance', 'Action-Adventure, Animals & Nature, Documentary', 'Coming of Age, Drama, Sports', 'Drama, Family', 'Drama, Family, Musical', 'Animation, Drama, Family', 'Animation, Drama, Kids', 'Animation, Anthology, Fantasy', 'Buddy, Comedy, Coming of Age', 'Animation, Family, Kids', 'Animation, Coming of Age, Family', 'Buddy, Coming of Age, Drama', 'Coming of Age, Docuseries, Family', 'Coming of Age, Music, Musical', 'Comedy, Coming of Age, Science Fiction', 'Drama, Family, Mystery', 'Animation, Comedy, Disaster', 'Sports', 'Comedy, Family, Game Show / Competition', 'Comedy, Mystery', 'Family, Fantasy, Romance', 'Action-Adventure, Family, Historical', 'Documentary, Family, Reality', 'Buddy, Comedy, Family', 'Anthology, Family, Lifestyle', 'Animation, Anthology, Comedy', 'Animation, Kids, Parody', 'Fantasy, Musical, Thriller', 'Family, Lifestyle, Reality', 'Documentary, Family, Variety', 'Biographical, Sports', 'Docuseries, Family, Medical', 'Comedy, Coming of Age, Sports', 'Action-Adventure, Crime, Family', 'Music, Reality', 'Drama, Parody, Science Fiction', 'Action-Adventure, Documentary, Sports', 'Drama, Mystery', 'Coming of Age, Sports', 'Coming of Age, Dance, Drama', 'Animation, Family, Music', 'Animals & Nature, Docuseries, Survival', 'Concert Film, Documentary, Music', 'Comedy, Family, Romantic Comedy', 'Coming of Age, Musical, Romance', 'Coming of Age, Musical', 'Coming of Age, Family, Musical', 'Animals & Nature, Comedy, Coming of Age', 'Biographical, Family, Sports', 'Comedy, Science Fiction', 'Animals & Nature, Documentary, Medical', 'Coming of Age, Dance, Sports', 'Action-Adventure, Coming of Age', 'Animation, Family, Musical', 'Action-Adventure, Documentary, Superhero', 'Buddy, Comedy', 'Drama, Historical, Sports', 'Action-Adventure, Documentary', 'Anthology, Comedy, Kids', 'Drama, Fantasy', 'Action-Adventure, Animals & Nature, Comedy', 'Kids', 'Animals & Nature, Animation, Family', 'Anthology, Comedy, Family', 'Animals & Nature, Coming of Age, Family', 'Family, Fantasy', 'Buddy, Family, Sports', 'Biographical, Drama, Historical', 'Animals & Nature, Biographical, Drama', 'Comedy, Crime, Family', 'Animation, Buddy, Family', 'Fantasy, Kids, Mystery', 'Action-Adventure, Family, Survival', 'Action-Adventure, Western', 'Buddy, Coming of Age, Family', 'Comedy, Family, Western', 'Action-Adventure, Science Fiction, Thriller', 'Animation, Anthology, Kids', 'Action-Adventure, Family, Western', 'Crime, Drama, Family', 'Comedy, Crime, Science Fiction', 'Comedy, Music', 'Action-Adventure, Comedy', 'Animation, Drama, Fantasy', 'Comedy, Family, Romance', 'Action-Adventure, Drama, Family', 'Biographical, Family, Historical', 'Buddy, Comedy, Romance', 'Action-Adventure, Family, Mystery', 'Coming of Age, Drama, Fantasy', 'Comedy, Crime, Fantasy', 'Action-Adventure, Coming of Age, Fantasy', 'Animals & Nature, Docuseries, Travel', 'Coming of Age, Musical, Science Fiction', 'Animation, Family, Mystery', 'Biographical, Comedy, Drama', 'Action-Adventure, Animals & Nature, Animation']\n"
     ]
    }
   ],
   "source": [
    "def list_of_elements(my_data_local):\n",
    "    result_list = []\n",
    "    for d in my_data_local:\n",
    "        if d[10] not in result_list:\n",
    "            result_list.append(d[10])\n",
    "    print(result_list)\n",
    "list_of_elements(data)"
   ]
  },
  {
   "cell_type": "markdown",
   "metadata": {},
   "source": [
    "## Step 7: Get Unique Dictionary of Category and Count 👯"
   ]
  },
  {
   "cell_type": "code",
   "execution_count": 124,
   "metadata": {},
   "outputs": [],
   "source": [
    "'''\n",
    "In step 6, we saw that multiple genres were being listed in the same row, hence being considered as \"unique values\", \n",
    "despite them being duplicates. \n",
    "We want to count how many movies belong to each \"unique\" category. \n",
    "In this function, we take three parameters: our dataset, the column index, and the seperator. \n",
    "By default, the column index is set to 10, because our categories are in the 10th column, and since the values\n",
    "are seperated by commas, the sep_local is set to ','\n",
    "The function iterates over each row in the \"listed_in\" column, and splitting the list of categories into subcategories.\n",
    "Then, for each element within the sublist, we use the strip() function to remove any whitespaces, then add them into our \n",
    "newly-created dictionary if it is not already there. \n",
    "Finally, we sort the list in descending order. \n",
    "'''\n",
    "def elements_count(my_data_local, col_index_local = 10, sep_local = ','): #sep_local is the seperator\n",
    "    element_count_dict = {} #empty dictionary that'll hold the genres and counts. \n",
    "    for d in my_data_local: \n",
    "       values = d[col_index_local].split(sep_local) #split each list into sublist so only one genre in one element\n",
    "       for value in values: \n",
    "           value = value.strip() #remove whitespaces from each elemenet\n",
    "           if value not in element_count_dict:\n",
    "               element_count_dict[value] = 1\n",
    "           else: \n",
    "               element_count_dict[value] += 1\n",
    "    sorted_elements_count = dict(sorted(element_count_dict.items(), key=lambda item: item[1], reverse=True))\n",
    "    return sorted_elements_count"
   ]
  },
  {
   "cell_type": "code",
   "execution_count": 125,
   "metadata": {},
   "outputs": [
    {
     "data": {
      "text/plain": [
       "{'Animation': 161,\n",
       " 'Action-Adventure': 138,\n",
       " 'Docuseries': 122,\n",
       " 'Comedy': 119,\n",
       " 'Kids': 102,\n",
       " 'Family': 99,\n",
       " 'Animals & Nature': 78,\n",
       " 'Coming of Age': 52,\n",
       " 'Fantasy': 34,\n",
       " 'Reality': 22,\n",
       " 'Anthology': 21,\n",
       " 'Buddy': 16,\n",
       " 'Historical': 15,\n",
       " 'Science Fiction': 15,\n",
       " 'Drama': 13,\n",
       " 'Music': 10,\n",
       " 'Game Show / Competition': 10,\n",
       " 'Survival': 6,\n",
       " 'Sports': 5,\n",
       " 'Lifestyle': 5,\n",
       " 'Variety': 5,\n",
       " 'Medical': 4,\n",
       " 'Anime': 4,\n",
       " 'Musical': 4,\n",
       " 'Mystery': 4,\n",
       " 'Superhero': 3,\n",
       " 'Series': 3,\n",
       " 'Western': 2,\n",
       " 'Soap Opera / Melodrama': 2,\n",
       " 'Parody': 2,\n",
       " 'Police/Cop': 1,\n",
       " 'Talk Show': 1,\n",
       " 'Romance': 1,\n",
       " 'Spy/Espionage': 1,\n",
       " 'Travel': 1}"
      ]
     },
     "execution_count": 125,
     "metadata": {},
     "output_type": "execute_result"
    }
   ],
   "source": [
    "elements_count(disney_shows)"
   ]
  },
  {
   "cell_type": "code",
   "execution_count": 29,
   "metadata": {},
   "outputs": [
    {
     "data": {
      "text/plain": [
       "{'Family': 533,\n",
       " 'Comedy': 407,\n",
       " 'Animation': 381,\n",
       " 'Action-Adventure': 314,\n",
       " 'Documentary': 174,\n",
       " 'Fantasy': 158,\n",
       " 'Coming of Age': 153,\n",
       " 'Animals & Nature': 130,\n",
       " 'Drama': 121,\n",
       " 'Science Fiction': 76,\n",
       " 'Biographical': 41,\n",
       " 'Musical': 40,\n",
       " 'Kids': 39,\n",
       " 'Music': 38,\n",
       " 'Sports': 38,\n",
       " 'Historical': 38,\n",
       " 'Buddy': 24,\n",
       " 'Romance': 19,\n",
       " 'Superhero': 16,\n",
       " 'Crime': 16,\n",
       " 'Mystery': 8,\n",
       " 'Concert Film': 7,\n",
       " 'Variety': 7,\n",
       " 'Parody': 7,\n",
       " 'Anthology': 7,\n",
       " 'Dance': 6,\n",
       " 'Thriller': 5,\n",
       " 'Western': 5,\n",
       " 'Reality': 4,\n",
       " 'Lifestyle': 3,\n",
       " 'Movies': 3,\n",
       " 'Survival': 3,\n",
       " 'Spy/Espionage': 2,\n",
       " 'Romantic Comedy': 2,\n",
       " 'Medical': 2,\n",
       " 'Disaster': 2}"
      ]
     },
     "execution_count": 29,
     "metadata": {},
     "output_type": "execute_result"
    }
   ],
   "source": [
    "elements_count(disney_movies)"
   ]
  },
  {
   "cell_type": "markdown",
   "metadata": {},
   "source": [
    "Fill the blanks below manually based on the output in the above two cells.\n",
    "\n",
    "The maximum movies are listed in <u>'Family'</u> followed by 'Comedy'.\n",
    "\n",
    "The maximum Shows are listed in <u>'Animation'</u> followed by 'Action-Adventure'."
   ]
  },
  {
   "cell_type": "markdown",
   "metadata": {},
   "source": [
    "## Step 8: Average Durations of Movies and Shows ⌛"
   ]
  },
  {
   "cell_type": "markdown",
   "metadata": {},
   "source": [
    "#### Function to extract only the numeric values from the 'duration' column"
   ]
  },
  {
   "cell_type": "code",
   "execution_count": 128,
   "metadata": {},
   "outputs": [],
   "source": [
    "''' \n",
    "In the duration column, data is represented like this: \"24 minutes\", \"3 seasons\", etc. \n",
    "In order to find the average durations of movies and tv shows, we first need to write a function that will extract \n",
    "only the numeric values from the column. \n",
    "To do this, we created a new empty list to store our converted data (converted_durations[])\n",
    "Then, for each row, we split the list based on the spaces, then take the first element (at index 0) of the split list,\n",
    "which extracts for us only the numbers in every row. \n",
    "Finally, we can convert these numbers to integers and append them to the new list.\n",
    "'''\n",
    "def duration_converstion(my_data_local, col_index_local = -3):\n",
    "    converted_durations = []\n",
    "    for d in my_data_local:\n",
    "      #split by spaces, then take the first element of the stripped list, then convert to int\n",
    "      #cuz we'll need to get average later\n",
    "        converted_durations.append(int(d[col_index_local].split(' ')[0]))\n",
    "    return converted_durations\n"
   ]
  },
  {
   "cell_type": "code",
   "execution_count": 130,
   "metadata": {},
   "outputs": [],
   "source": [
    "\n",
    "''' Storing the durations of movies and shows in two seperate lists'''\n",
    "converted_movies = duration_converstion(disney_movies)\n",
    "converted_shows = duration_converstion(disney_shows)\n",
    "\n",
    "print(converted_movies)\n"
   ]
  },
  {
   "cell_type": "markdown",
   "metadata": {},
   "source": [
    "#### Function to find average duration"
   ]
  },
  {
   "cell_type": "code",
   "execution_count": 109,
   "metadata": {},
   "outputs": [
    {
     "name": "stdout",
     "output_type": "stream",
     "text": [
      "Average Duration of Movies: 71.911 minutes\n",
      "Average No. of Seasons in TV Shows: ~2.118 seasons\n"
     ]
    }
   ],
   "source": [
    "''' \n",
    "Finding the average now becomes simple. All we have to do is divide the sum of the list with the length of \n",
    "the list. For easy readability, we have also rounded our answer to 3 digits. \n",
    "'''\n",
    "def get_average(durations):\n",
    "    return round(sum(durations)/len(durations),3)\n",
    "print(f'Average Duration of Movies: {get_average(converted_movies)} minutes')\n",
    "print(f'Average No. of Seasons in TV Shows: ~{get_average(converted_shows)} seasons')"
   ]
  },
  {
   "cell_type": "markdown",
   "metadata": {},
   "source": [
    "## Step 9 Attempt"
   ]
  },
  {
   "cell_type": "code",
   "execution_count": null,
   "metadata": {},
   "outputs": [],
   "source": [
    "def filter_data(row_local, filter_local = {5: 'Germany'}):\n",
    "    for index, value in filter_local.items(): \n",
    "        if ',' in row_local[index]:\n",
    "    # nope 💀\n",
    "    ''' \n",
    "    This function will take one row of the data at a time and also the filter criteria in \n",
    "    the form of a dictionary where key is the column location and the value is the filter value expected.\n",
    "    '''\n",
    "    include_row_ll = True # By default, the row qualifies for the filtering criteria\n",
    "    # Write a for loop that will loop over all the key value pairs of the filters and check the values in the row.\n",
    "    for f in filter_local:\n",
    "        print(f)\n",
    "    # Inside for loop, write a if-else that will check if there are \",\" in that field. If yes, then create a list out of it splitting it and then checking each value for the filter values. Else, directly check it for the filter values.\n"
   ]
  }
 ],
 "metadata": {
  "kernelspec": {
   "display_name": "base",
   "language": "python",
   "name": "python3"
  },
  "language_info": {
   "codemirror_mode": {
    "name": "ipython",
    "version": 3
   },
   "file_extension": ".py",
   "mimetype": "text/x-python",
   "name": "python",
   "nbconvert_exporter": "python",
   "pygments_lexer": "ipython3",
   "version": "3.12.3"
  }
 },
 "nbformat": 4,
 "nbformat_minor": 2
}
