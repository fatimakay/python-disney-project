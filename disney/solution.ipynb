{
 "cells": [
  {
   "cell_type": "markdown",
   "metadata": {},
   "source": [
    "**<h1 style=\"text-align: center\">✨ Data Analysis with Disney ✨</h1>**\n",
    "<p style=\"text-align: center\"> 🔱 Project by: Fatima Khan, Ilker Dom, and Pei Huang 🔱 </p>\n",
    "<hr/>"
   ]
  },
  {
   "cell_type": "markdown",
   "metadata": {},
   "source": [
    "## Data dictionary ##\n",
    "|ind. | name | description |\n",
    "|----|----|:----|\n",
    "|0.| **header** | Column names |\n",
    "|1.| **show_id** | Unique id |\n",
    "|2.| **type** | Movie or TV Show |\n",
    "|3.| **title** | Name of the movie/show |\n",
    "|4.| **director** | Directors of the movie/show |\n",
    "|5.| **cast** | Main cast of the movie/show |\n",
    "|6.| **country** | Country of production |\n",
    "|7.| **date_added** | Date added on Disney Plus |\n",
    "|8.| **release_year** | Original Release Year of the movie/tv show |\n",
    "|9.| **rating** | Rating of the movie/show |\n",
    "|10.| **duration** | Total duration of the movie/show |\n",
    "|11.| **listed_in** | Genres in which the movie is listed |  \n",
    "|12.| **description** | One-Line content description |"
   ]
  },
  {
   "cell_type": "markdown",
   "metadata": {},
   "source": [
    "## Step 1: Reading the Data File 🕵️"
   ]
  },
  {
   "cell_type": "code",
   "execution_count": null,
   "metadata": {},
   "outputs": [],
   "source": [
    "from csv import reader #Package that reads the csv file.\n",
    "\n",
    "with open('./Data/disney_plus_titles.csv', encoding=\"utf-8\") as opened_file:\n",
    "    read_file = reader(opened_file)\n",
    "    data_list = list(read_file) # This stores the data in the list of lists format."
   ]
  },
  {
   "cell_type": "code",
   "execution_count": null,
   "metadata": {},
   "outputs": [],
   "source": [
    "#extracing only the column names\n",
    "data_header = data_list[0]\n",
    "\n",
    "#extracting the data excluding the column names \n",
    "data = data_list[1:]"
   ]
  },
  {
   "cell_type": "markdown",
   "metadata": {},
   "source": [
    "## Step 2: Data Exploration 🚀"
   ]
  },
  {
   "cell_type": "code",
   "execution_count": null,
   "metadata": {},
   "outputs": [],
   "source": [
    "'''\n",
    "The function lets you view data from any point and until the row you specified. \n",
    "To use this function, you need to define four parameters: \n",
    "1. name of the dataset you want to explore \n",
    "2. index of the row you want to start at\n",
    "3. index of the row you want to end at\n",
    "4. whether you want to display the total rows and columns of the table (True or False)\n",
    "By default, we are using our disney dataset, displaying the first three rows as well as the count of rows and columns\n",
    "'''\n",
    "def explore_data(data_local = data, start_row_local = 1, end_row_local = 4, rows_and_cols_local = True):\n",
    "    sliced_data = data_local[start_row_local: end_row_local]\n",
    "    for d in sliced_data: \n",
    "        print(d)\n",
    "    if rows_and_cols_local == True: #if user wants to show rows and cols\n",
    "        print(\"Total rows: \", len(data_local))\n",
    "        print(\"Total columns: \", len(data_local[0]))\n",
    "        \n",
    "explore_data()"
   ]
  },
  {
   "cell_type": "markdown",
   "metadata": {},
   "source": [
    "#### **Display Top 5 Rows**"
   ]
  },
  {
   "cell_type": "code",
   "execution_count": null,
   "metadata": {},
   "outputs": [],
   "source": [
    "explore_data(data, 0, 5, True)"
   ]
  },
  {
   "cell_type": "markdown",
   "metadata": {},
   "source": [
    "#### **Display Last Five Rows**"
   ]
  },
  {
   "cell_type": "markdown",
   "metadata": {},
   "source": [
    "First we gotta modify the function to display until the last row because in slicing, the end index is exclusive."
   ]
  },
  {
   "cell_type": "code",
   "execution_count": null,
   "metadata": {},
   "outputs": [],
   "source": [
    "'''\n",
    "Our previous function was not optimized to fetch data from the end of the table.\n",
    "In order to perform negative indexing, we need to slightly modify our original function \n",
    "to redefine the ranges. The following function checks to see if the end index is -1, and it slices \n",
    "the data to include all rows from the start index to the end of the row. \n",
    "Otherwise, it performs slicing as usual\n",
    "'''\n",
    "def explore_data(data_local = data, start_row_local = -5, end_row_local = -1, show_last_row = True):\n",
    "    if show_last_row == True and end_row_local == -1:\n",
    "        sliced_data = data_local[start_row_local:]\n",
    "    else:\n",
    "        sliced_data = data_local[start_row_local: end_row_local]\n",
    "    for d in sliced_data: \n",
    "        print(d)\n",
    "        \n",
    "explore_data()"
   ]
  },
  {
   "cell_type": "markdown",
   "metadata": {},
   "source": [
    "## Step 3: Seperating Movies and Shows ✂️ "
   ]
  },
  {
   "cell_type": "code",
   "execution_count": null,
   "metadata": {},
   "outputs": [],
   "source": [
    "'''\n",
    "In this part we are required to create two lists to seperate the movies and the tv shows. To do that, \n",
    "we first created three empty lists, and an empty title string which we will use for comparing individual elements. \n",
    "Then, we iterate over our data list, converting each element into lower case, then checking to which category it belongs to, \n",
    "and adding it to the respective list\n",
    "'''\n",
    "disney_movies = []\n",
    "disney_shows = []\n",
    "disney_other = []\n",
    "title = ''\n",
    "for d in data:\n",
    "    title = d[1].lower()\n",
    "    if 'movie' in title: \n",
    "        title = \"Movie\"\n",
    "        disney_movies.append(d)\n",
    "    elif 'tv' in title: \n",
    "        title = \"TV Show\"\n",
    "        disney_shows.append(d)\n",
    "    else: \n",
    "        title = \"Other\"\n",
    "        disney_other.append(d)\n",
    "\n",
    "print(\"Disney Movies: \", len(disney_movies))\n",
    "print(\"Disney Shows: \", len(disney_shows))\n",
    "print(\"Disney Other: \", len(disney_other))\n"
   ]
  },
  {
   "cell_type": "markdown",
   "metadata": {},
   "source": [
    "## Step 4: Get Unique Values 💎"
   ]
  },
  {
   "cell_type": "code",
   "execution_count": null,
   "metadata": {},
   "outputs": [],
   "source": [
    "''' \n",
    "This function will display the unique values of any specified column. \n",
    "It takes in the dataset, and a column index as its arguments. \n",
    "We also create a new list which will store our unique values. \n",
    "Then, for each row in the dataset, it will check whether the element at that row exists in the results_list[],\n",
    "if not, then add it to the list. \n",
    "'''\n",
    "def list_of_elements(my_data_local = data, col_index_local = 8):\n",
    "    result_list = []\n",
    "    for d in my_data_local:\n",
    "        if d[col_index_local] not in result_list:\n",
    "            result_list.append(d[col_index_local])\n",
    "    return result_list\n",
    "list_of_elements(data, 8)"
   ]
  },
  {
   "cell_type": "markdown",
   "metadata": {},
   "source": [
    "## Step 5: No. of Movies and Shows for Each Unique Value in a Column "
   ]
  },
  {
   "cell_type": "code",
   "execution_count": null,
   "metadata": {},
   "outputs": [],
   "source": [
    "def elements_count(my_data_local, col_index_local):\n",
    "    element_count_dict = {}\n",
    "    for d in my_data_local: \n",
    "        if d[col_index_local] not in element_count_dict:\n",
    "            element_count_dict[d[col_index_local]] = 1 \n",
    "        else: \n",
    "            element_count_dict[d[col_index_local]] += 1\n",
    "    sorted_elements_count = dict(sorted(element_count_dict.items(), key=lambda item: item[1], reverse=True))\n",
    "    return sorted_elements_count\n",
    "\n",
    "# elements_count(disney_shows, 8)\n",
    "elements_count(disney_movies, 8)\n"
   ]
  },
  {
   "cell_type": "markdown",
   "metadata": {},
   "source": [
    "sorted(element_count_dict.items(), key=lambda item: item[1], reverse=True):\n",
    "\n",
    "The sorted() function takes an iterable and returns a new sorted list from that iterable.\n",
    "element_count_dict.items() provides the iterable (list of key-value pairs) to be sorted.\n",
    "key=lambda item: item[1] specifies a sorting key. Here, a lambda function lambda item: item[1] is used, where item is each tuple (key, value), and item[1] is the value part of the tuple. This means the sorting will be based on the values of the dictionary.\n",
    "reverse=True specifies that the sorting should be in descending order."
   ]
  },
  {
   "cell_type": "markdown",
   "metadata": {},
   "source": [
    "## Step 6: Fetching Unique Values for '_Listed in_' Column"
   ]
  },
  {
   "cell_type": "code",
   "execution_count": null,
   "metadata": {},
   "outputs": [],
   "source": [
    "def list_of_elements(my_data_local):\n",
    "    result_list = []\n",
    "    for d in my_data_local:\n",
    "        if d[10] not in result_list:\n",
    "            result_list.append(d[10])\n",
    "    print(result_list)\n",
    "list_of_elements(data)"
   ]
  },
  {
   "cell_type": "markdown",
   "metadata": {},
   "source": [
    "## Step 7: Get Unique Dictionary of Category and Count 👯"
   ]
  },
  {
   "cell_type": "code",
   "execution_count": null,
   "metadata": {},
   "outputs": [],
   "source": [
    "'''\n",
    "In step 6, we saw that multiple genres were being listed in the same row, hence being considered as \"unique values\", \n",
    "despite them being duplicates. \n",
    "We want to count how many movies belong to each \"unique\" category. \n",
    "In this function, we take three parameters: our dataset, the column index, and the seperator. \n",
    "By default, the column index is set to 10, because our categories are in the 10th column, and since the values\n",
    "are seperated by commas, the sep_local is set to ','\n",
    "The function iterates over each row in the \"listed_in\" column, and splitting the list of categories into subcategories.\n",
    "Then, for each element within the sublist, we use the strip() function to remove any whitespaces, then add them into our \n",
    "newly-created dictionary if it is not already there. \n",
    "Finally, we sort the list in descending order. \n",
    "'''\n",
    "def elements_count(my_data_local, col_index_local = 10, sep_local = ','): #sep_local is the seperator\n",
    "    element_count_dict = {} #empty dictionary that'll hold the genres and counts. \n",
    "    for d in my_data_local: \n",
    "       values = d[col_index_local].split(sep_local) #split each list into sublist so only one genre in one element\n",
    "       for value in values: \n",
    "           value = value.strip() #remove whitespaces from each elemenet\n",
    "           if value not in element_count_dict:\n",
    "               element_count_dict[value] = 1\n",
    "           else: \n",
    "               element_count_dict[value] += 1\n",
    "    sorted_elements_count = dict(sorted(element_count_dict.items(), key=lambda item: item[1], reverse=True))\n",
    "    return sorted_elements_count"
   ]
  },
  {
   "cell_type": "code",
   "execution_count": null,
   "metadata": {},
   "outputs": [],
   "source": [
    "elements_count(disney_shows)"
   ]
  },
  {
   "cell_type": "code",
   "execution_count": null,
   "metadata": {},
   "outputs": [],
   "source": [
    "elements_count(disney_movies)"
   ]
  },
  {
   "cell_type": "markdown",
   "metadata": {},
   "source": [
    "Fill the blanks below manually based on the output in the above two cells.\n",
    "\n",
    "The maximum movies are listed in <u>'Family'</u> followed by 'Comedy'.\n",
    "\n",
    "The maximum Shows are listed in <u>'Animation'</u> followed by 'Action-Adventure'."
   ]
  },
  {
   "cell_type": "markdown",
   "metadata": {},
   "source": [
    "## Step 8: Average Durations of Movies and Shows ⌛"
   ]
  },
  {
   "cell_type": "markdown",
   "metadata": {},
   "source": [
    "#### Function to extract only the numeric values from the 'duration' column"
   ]
  },
  {
   "cell_type": "code",
   "execution_count": null,
   "metadata": {},
   "outputs": [],
   "source": [
    "''' \n",
    "In the duration column, data is represented like this: \"24 minutes\", \"3 seasons\", etc. \n",
    "In order to find the average durations of movies and tv shows, we first need to write a function that will extract \n",
    "only the numeric values from the column. \n",
    "To do this, we created a new empty list to store our converted data (converted_durations[])\n",
    "Then, for each row, we split the list based on the spaces, then take the first element (at index 0) of the split list,\n",
    "which extracts for us only the numbers in every row. \n",
    "Finally, we can convert these numbers to integers and append them to the new list.\n",
    "'''\n",
    "def duration_converstion(my_data_local, col_index_local = -3):\n",
    "    converted_durations = []\n",
    "    for d in my_data_local:\n",
    "      #split by spaces, then take the first element of the stripped list, then convert to int\n",
    "      #cuz we'll need to get average later\n",
    "        converted_durations.append(int(d[col_index_local].split(' ')[0]))\n",
    "    return converted_durations\n"
   ]
  },
  {
   "cell_type": "code",
   "execution_count": null,
   "metadata": {},
   "outputs": [],
   "source": [
    "\n",
    "''' Storing the durations of movies and shows in two seperate lists'''\n",
    "converted_movies = duration_converstion(disney_movies)\n",
    "converted_shows = duration_converstion(disney_shows)\n",
    "\n",
    "print(converted_movies)\n"
   ]
  },
  {
   "cell_type": "markdown",
   "metadata": {},
   "source": [
    "#### Function to find average duration"
   ]
  },
  {
   "cell_type": "code",
   "execution_count": null,
   "metadata": {},
   "outputs": [],
   "source": [
    "''' \n",
    "Finding the average now becomes simple. All we have to do is divide the sum of the list with the length of \n",
    "the list. For easy readability, we have also rounded our answer to 3 digits. \n",
    "'''\n",
    "def get_average(durations):\n",
    "    return round(sum(durations)/len(durations),3)\n",
    "print(f'Average Duration of Movies: {get_average(converted_movies)} minutes')\n",
    "print(f'Average No. of Seasons in TV Shows: ~{get_average(converted_shows)} seasons')"
   ]
  }
 ],
 "metadata": {
  "kernelspec": {
   "display_name": "base",
   "language": "python",
   "name": "python3"
  },
  "language_info": {
   "codemirror_mode": {
    "name": "ipython",
    "version": 3
   },
   "file_extension": ".py",
   "mimetype": "text/x-python",
   "name": "python",
   "nbconvert_exporter": "python",
   "pygments_lexer": "ipython3",
   "version": "3.12.3"
  }
 },
 "nbformat": 4,
 "nbformat_minor": 2
}
